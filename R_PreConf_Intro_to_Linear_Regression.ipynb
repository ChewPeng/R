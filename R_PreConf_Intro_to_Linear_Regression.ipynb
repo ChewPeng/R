{
  "nbformat": 4,
  "nbformat_minor": 0,
  "metadata": {
    "colab": {
      "name": "R_PreConf_Intro to Linear Regression.ipynb",
      "provenance": [],
      "collapsed_sections": [],
      "include_colab_link": true
    },
    "kernelspec": {
      "name": "ir",
      "display_name": "R"
    }
  },
  "cells": [
    {
      "cell_type": "markdown",
      "metadata": {
        "id": "view-in-github",
        "colab_type": "text"
      },
      "source": [
        "<a href=\"https://colab.research.google.com/github/ChewPeng/R/blob/main/R_PreConf_Intro_to_Linear_Regression.ipynb\" target=\"_parent\"><img src=\"https://colab.research.google.com/assets/colab-badge.svg\" alt=\"Open In Colab\"/></a>"
      ]
    },
    {
      "cell_type": "markdown",
      "metadata": {
        "id": "pQPn75abzMwl"
      },
      "source": [
        "# **Introduction to Linear Regression**\n"
      ]
    },
    {
      "cell_type": "markdown",
      "metadata": {
        "id": "1uPh-23czP6x"
      },
      "source": [
        "Prepared by:\n",
        "    \n",
        "Dr. Gan Chew Peng\n",
        "<br><br>\n",
        "\n",
        "LinkedIn: [ChewPeng](https://www.linkedin.com/in/chew-peng-gan-03b516a6/)\n",
        "\n",
        "Github: [R](https://github.com/ChewPeng/R/blob/main/R_PreConf_Intro_to_Linear_Regression.ipynb) "
      ]
    },
    {
      "cell_type": "markdown",
      "metadata": {
        "id": "Ij6LlhR6zVab"
      },
      "source": [
        "## Dataset\n",
        "\n",
        "In this session, we are going to use [insurance.csv](https://github.com/ChewPeng/R/blob/main/insurance.csv) dataset. Take note that this dataset was downloaded from [Kaggle](https://www.kaggle.com/mirichoi0218/insurance)."
      ]
    },
    {
      "cell_type": "markdown",
      "metadata": {
        "id": "trWDLhBM0AFb"
      },
      "source": [
        "------"
      ]
    },
    {
      "cell_type": "markdown",
      "metadata": {
        "id": "kU1HC7D9zuY5"
      },
      "source": [
        "1: Read the `insurance.csv`"
      ]
    },
    {
      "cell_type": "code",
      "metadata": {
        "id": "51cf4OLn0Jj3"
      },
      "source": [
        "df <- read.csv(\"https://raw.githubusercontent.com/ChewPeng/R/main/insurance.csv\",\n",
        "                  header=T, \n",
        "                  sep=\",\",\n",
        "                  strip.white=T,\n",
        "                  stringsAsFactors = T)\n",
        "\n",
        "\n",
        "head(df)\n",
        "\n",
        "dim(df)\n",
        "\n"
      ],
      "execution_count": null,
      "outputs": []
    },
    {
      "cell_type": "markdown",
      "metadata": {
        "id": "dnjgtU8-n3xq"
      },
      "source": [
        "2: Summary of the data"
      ]
    },
    {
      "cell_type": "code",
      "metadata": {
        "id": "2MrtxU9xJsun"
      },
      "source": [
        "summary(df)"
      ],
      "execution_count": null,
      "outputs": []
    },
    {
      "cell_type": "markdown",
      "metadata": {
        "id": "BDhuRgg7cKVq"
      },
      "source": [
        "------"
      ]
    },
    {
      "cell_type": "markdown",
      "metadata": {
        "id": "hTjv7Jiu4UxH"
      },
      "source": [
        "## Linear Regression : Factors affecting `charges`\n",
        "\n",
        "The mathematical formula of the linear regression can be written as `y = b0 + b1*x + e`, where:\n",
        "\n",
        "`b0` and `b1` are known as the regression coefficients or parameters:\n",
        "*   `b0` is the intercept of the regression line; that is the predicted value when `x = 0`.\n",
        "*   `b1` is the slope of the regression line.\n",
        "*   `e` is the error term (also known as the residuals), the part of `y` that cannot be explained by the regression model\n",
        "\n"
      ]
    },
    {
      "cell_type": "code",
      "metadata": {
        "id": "qqI334HMwxUQ"
      },
      "source": [
        "cor(df[, unlist(lapply(df, is.numeric))]) \n"
      ],
      "execution_count": null,
      "outputs": []
    },
    {
      "cell_type": "markdown",
      "metadata": {
        "id": "XNwwSNG_055c"
      },
      "source": [
        "Now , let us investigate the relationship between `charges` and `age` . "
      ]
    },
    {
      "cell_type": "markdown",
      "metadata": {
        "id": "6nyazwDcCnWI"
      },
      "source": [
        "**1: Simple Linear Regression**\n",
        "\n",
        "The simple linear regression tries to find the best fit line to represent the relationship between y and x. \n",
        "\n",
        "The linear model equation can be written as follow: \n",
        "\n",
        "```\n",
        "charges = b0 + b1 * age\n",
        "```\n",
        "\n",
        "The R function `lm()` can be used to determine the beta coefficients of the linear model:"
      ]
    },
    {
      "cell_type": "code",
      "metadata": {
        "id": "UVJBhA0693xx"
      },
      "source": [
        "model1 <- lm(charges ~  age, data = df)\n",
        "model1"
      ],
      "execution_count": null,
      "outputs": []
    },
    {
      "cell_type": "markdown",
      "metadata": {
        "id": "ogdwZI2QCtII"
      },
      "source": [
        "**2: Scatter Plot**"
      ]
    },
    {
      "cell_type": "code",
      "metadata": {
        "id": "ZSVkdZevWyjA"
      },
      "source": [
        "library(ggplot2)\n",
        "\n",
        "ggplot(df, aes(x=age, y=\tcharges)) +\n",
        "  geom_point() +\n",
        "  stat_smooth(method = lm)"
      ],
      "execution_count": null,
      "outputs": []
    },
    {
      "cell_type": "markdown",
      "metadata": {
        "id": "yO-ZatQG0a-4"
      },
      "source": [
        "**3: Statistical Summary of the Regression Model**\n",
        "\n",
        "\n"
      ]
    },
    {
      "cell_type": "code",
      "metadata": {
        "id": "uYOzcQqd0lZm"
      },
      "source": [
        "summary(model1)"
      ],
      "execution_count": null,
      "outputs": []
    },
    {
      "cell_type": "markdown",
      "metadata": {
        "id": "YdKUWSP7H1FE"
      },
      "source": [
        "**4: Outlier**"
      ]
    },
    {
      "cell_type": "code",
      "metadata": {
        "id": "aWjiw2Ow5jxb"
      },
      "source": [
        "ggplot(df, aes(y=charges)) +\n",
        "  geom_boxplot() "
      ],
      "execution_count": null,
      "outputs": []
    },
    {
      "cell_type": "code",
      "metadata": {
        "id": "w316QfKW6bw-"
      },
      "source": [
        "Q1 <- quantile(df$charges, .25)\n",
        "Q3 <- quantile(df$charges, .75)\n",
        "IQR <- IQR(df$charges)"
      ],
      "execution_count": null,
      "outputs": []
    },
    {
      "cell_type": "code",
      "metadata": {
        "id": "Mjz6RRbv6g7c"
      },
      "source": [
        "df_no_outliers <- subset(df, \n",
        "                         df$charges> (Q1 - 1.5*IQR) &\n",
        "                          df$charges< (Q3 + 1.5*IQR))\n",
        "\n",
        "\n",
        "dim(df_no_outliers)"
      ],
      "execution_count": null,
      "outputs": []
    },
    {
      "cell_type": "code",
      "metadata": {
        "id": "wo7AiRNB62L-"
      },
      "source": [
        "ggplot(df_no_outliers, aes(x=age, y=charges)) +\n",
        "  geom_point() +\n",
        "  stat_smooth(method = lm)"
      ],
      "execution_count": null,
      "outputs": []
    },
    {
      "cell_type": "markdown",
      "metadata": {
        "id": "trOPH91YIL1U"
      },
      "source": [
        "**5: LR Model Fitting using *`df_no_outliers`***"
      ]
    },
    {
      "cell_type": "code",
      "metadata": {
        "id": "u6jqAE4k7MiQ"
      },
      "source": [
        "model2 <- lm(charges ~  age,  data = df_no_outliers)\n",
        "model2"
      ],
      "execution_count": null,
      "outputs": []
    },
    {
      "cell_type": "code",
      "metadata": {
        "id": "-jngxoxz7WqL"
      },
      "source": [
        "summary(model2)"
      ],
      "execution_count": null,
      "outputs": []
    },
    {
      "cell_type": "markdown",
      "metadata": {
        "id": "CHTwGU9YJSiV"
      },
      "source": [
        "**6: Multivariate Linear Regression**"
      ]
    },
    {
      "cell_type": "code",
      "metadata": {
        "id": "ALgFwom57s9i"
      },
      "source": [
        "colnames(df)"
      ],
      "execution_count": null,
      "outputs": []
    },
    {
      "cell_type": "code",
      "metadata": {
        "id": "FoogAfPQ7rt0"
      },
      "source": [
        "model3 <- lm(charges ~  ., \n",
        "            data = df_no_outliers)\n",
        "model3\n",
        "\n",
        "summary(model3)"
      ],
      "execution_count": null,
      "outputs": []
    },
    {
      "cell_type": "code",
      "metadata": {
        "id": "z9fIrrlw71XT"
      },
      "source": [
        "model4 <- lm(charges ~  age + \n",
        "                        bmi  + \n",
        "                        children + \n",
        "                        smoker+\n",
        "                        region, \n",
        "            data = df)\n",
        "model4\n",
        "\n",
        "summary(model4)"
      ],
      "execution_count": null,
      "outputs": []
    },
    {
      "cell_type": "code",
      "metadata": {
        "id": "7NRSuB9D0pOB"
      },
      "source": [
        "model5 <- lm(charges ~ . ,\n",
        "            data = df)\n",
        "model5\n",
        "\n",
        "summary(model5)"
      ],
      "execution_count": null,
      "outputs": []
    },
    {
      "cell_type": "markdown",
      "metadata": {
        "id": "ZHkRkPvLMpt7"
      },
      "source": [
        "**7: Plot**"
      ]
    },
    {
      "cell_type": "code",
      "metadata": {
        "id": "EcRIDvI1Ms97"
      },
      "source": [
        "plot(model5)"
      ],
      "execution_count": null,
      "outputs": []
    },
    {
      "cell_type": "markdown",
      "metadata": {
        "id": "PzTimjrQPShh"
      },
      "source": [
        "**8: Improvement**\n",
        "\n",
        "Referring to plots, #1301 , #578 and #544, #243 are outliers. Let us remove these points and then rerun the linear model again. "
      ]
    },
    {
      "cell_type": "code",
      "metadata": {
        "id": "gOxvil4HQc-U"
      },
      "source": [
        "library(dplyr)\n",
        "df_new <- df %>% slice(-c(1301,578,544,243))\n",
        "dim(df_new)"
      ],
      "execution_count": null,
      "outputs": []
    },
    {
      "cell_type": "code",
      "metadata": {
        "id": "inptG72lPlNu"
      },
      "source": [
        "model5_improve <- lm(charges ~  ., \n",
        "            data = df_new)\n",
        "\n",
        "summary(model5_improve)"
      ],
      "execution_count": null,
      "outputs": []
    },
    {
      "cell_type": "markdown",
      "metadata": {
        "id": "hUYvMm3n0w24"
      },
      "source": [
        "**9: Real-time Demo**\n",
        "\n",
        "Go to this [Page](https://ganchewpeng2.shinyapps.io/LinearRegressionDemo/ ) and Repeat the analysis.\n",
        "\n",
        "\n",
        "\n",
        "\n",
        "\n"
      ]
    },
    {
      "cell_type": "markdown",
      "metadata": {
        "id": "7uzITPBpdjYv"
      },
      "source": [
        "------"
      ]
    }
  ]
}